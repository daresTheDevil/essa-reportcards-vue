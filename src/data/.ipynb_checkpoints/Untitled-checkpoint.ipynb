{
 "cells": [
  {
   "cell_type": "code",
   "execution_count": 1,
   "metadata": {},
   "outputs": [],
   "source": [
    "import pandas as pd"
   ]
  },
  {
   "cell_type": "code",
   "execution_count": 4,
   "metadata": {},
   "outputs": [],
   "source": [
    "components_df = pd.read_json('dw-components.json', orient='rows')"
   ]
  },
  {
   "cell_type": "code",
   "execution_count": 5,
   "metadata": {},
   "outputs": [
    {
     "data": {
      "text/html": [
       "<div>\n",
       "<style scoped>\n",
       "    .dataframe tbody tr th:only-of-type {\n",
       "        vertical-align: middle;\n",
       "    }\n",
       "\n",
       "    .dataframe tbody tr th {\n",
       "        vertical-align: top;\n",
       "    }\n",
       "\n",
       "    .dataframe thead th {\n",
       "        text-align: right;\n",
       "    }\n",
       "</style>\n",
       "<table border=\"1\" class=\"dataframe\">\n",
       "  <thead>\n",
       "    <tr style=\"text-align: right;\">\n",
       "      <th></th>\n",
       "      <th>Component</th>\n",
       "    </tr>\n",
       "  </thead>\n",
       "  <tbody>\n",
       "    <tr>\n",
       "      <th>0</th>\n",
       "      <td>{'ComponentRowId': 1, 'ComponentCode': 'MP', '...</td>\n",
       "    </tr>\n",
       "    <tr>\n",
       "      <th>1</th>\n",
       "      <td>{'ComponentRowId': 2, 'ComponentCode': 'MG', '...</td>\n",
       "    </tr>\n",
       "    <tr>\n",
       "      <th>2</th>\n",
       "      <td>{'ComponentRowId': 3, 'ComponentCode': 'MGL25'...</td>\n",
       "    </tr>\n",
       "    <tr>\n",
       "      <th>3</th>\n",
       "      <td>{'ComponentRowId': 4, 'ComponentCode': 'EP', '...</td>\n",
       "    </tr>\n",
       "    <tr>\n",
       "      <th>4</th>\n",
       "      <td>{'ComponentRowId': 5, 'ComponentCode': 'EG', '...</td>\n",
       "    </tr>\n",
       "    <tr>\n",
       "      <th>5</th>\n",
       "      <td>{'ComponentRowId': 6, 'ComponentCode': 'EGL25'...</td>\n",
       "    </tr>\n",
       "    <tr>\n",
       "      <th>6</th>\n",
       "      <td>{'ComponentRowId': 7, 'ComponentCode': 'HP', '...</td>\n",
       "    </tr>\n",
       "    <tr>\n",
       "      <th>7</th>\n",
       "      <td>{'ComponentRowId': 8, 'ComponentCode': 'SP', '...</td>\n",
       "    </tr>\n",
       "    <tr>\n",
       "      <th>8</th>\n",
       "      <td>{'ComponentRowId': 9, 'ComponentCode': 'CCR', ...</td>\n",
       "    </tr>\n",
       "    <tr>\n",
       "      <th>9</th>\n",
       "      <td>{'ComponentRowId': 10, 'ComponentCode': 'ACC',...</td>\n",
       "    </tr>\n",
       "  </tbody>\n",
       "</table>\n",
       "</div>"
      ],
      "text/plain": [
       "                                           Component\n",
       "0  {'ComponentRowId': 1, 'ComponentCode': 'MP', '...\n",
       "1  {'ComponentRowId': 2, 'ComponentCode': 'MG', '...\n",
       "2  {'ComponentRowId': 3, 'ComponentCode': 'MGL25'...\n",
       "3  {'ComponentRowId': 4, 'ComponentCode': 'EP', '...\n",
       "4  {'ComponentRowId': 5, 'ComponentCode': 'EG', '...\n",
       "5  {'ComponentRowId': 6, 'ComponentCode': 'EGL25'...\n",
       "6  {'ComponentRowId': 7, 'ComponentCode': 'HP', '...\n",
       "7  {'ComponentRowId': 8, 'ComponentCode': 'SP', '...\n",
       "8  {'ComponentRowId': 9, 'ComponentCode': 'CCR', ...\n",
       "9  {'ComponentRowId': 10, 'ComponentCode': 'ACC',..."
      ]
     },
     "execution_count": 5,
     "metadata": {},
     "output_type": "execute_result"
    }
   ],
   "source": [
    "components_df.head(10)"
   ]
  },
  {
   "cell_type": "code",
   "execution_count": null,
   "metadata": {},
   "outputs": [],
   "source": []
  }
 ],
 "metadata": {
  "kernelspec": {
   "display_name": "Python 3",
   "language": "python",
   "name": "python3"
  },
  "language_info": {
   "codemirror_mode": {
    "name": "ipython",
    "version": 3
   },
   "file_extension": ".py",
   "mimetype": "text/x-python",
   "name": "python",
   "nbconvert_exporter": "python",
   "pygments_lexer": "ipython3",
   "version": "3.6.5"
  }
 },
 "nbformat": 4,
 "nbformat_minor": 2
}
